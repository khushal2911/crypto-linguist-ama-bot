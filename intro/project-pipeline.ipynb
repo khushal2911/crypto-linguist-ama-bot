{
 "cells": [
  {
   "cell_type": "markdown",
   "id": "555e174e-d361-4ec4-9520-5692372b5cfd",
   "metadata": {},
   "source": [
    "# Ingestion"
   ]
  },
  {
   "cell_type": "code",
   "execution_count": 2,
   "id": "e78b45b9-1bf7-4047-bb96-452583d939f4",
   "metadata": {},
   "outputs": [],
   "source": [
    "import pandas as pd\n",
    "import minsearch\n",
    "from openai import OpenAI\n",
    "import os\n",
    "from dotenv import load_dotenv"
   ]
  },
  {
   "cell_type": "code",
   "execution_count": 3,
   "id": "f4fc63cf-05c1-406e-8730-a2e18b7f3534",
   "metadata": {},
   "outputs": [],
   "source": [
    "import json"
   ]
  },
  {
   "cell_type": "code",
   "execution_count": 4,
   "id": "e336b7b9-21ed-42a5-8f8c-058d166b8352",
   "metadata": {},
   "outputs": [],
   "source": [
    "with open('../data/documents-with-ids.json','rb') as f:\n",
    "    documents = json.load(f)"
   ]
  },
  {
   "cell_type": "code",
   "execution_count": 5,
   "id": "1d9d3476-dfc8-4299-8645-719b1d016d12",
   "metadata": {},
   "outputs": [
    {
     "data": {
      "text/plain": [
       "{'term': '34% Attack',\n",
       " 'category': 'Security and Attacks',\n",
       " 'description': 'A 34% attack occurs when an entity controls more than 34% of a blockchain’s network power or stake, potentially manipulating consensus mechanisms, especially in Proof-of-Stake networks. This level of control can disrupt the network, validate fraudulent transactions, or halt consensus, compromising the integrity of the blockchain.',\n",
       " 'id': '4c1e419c'}"
      ]
     },
     "execution_count": 5,
     "metadata": {},
     "output_type": "execute_result"
    }
   ],
   "source": [
    "documents[0]"
   ]
  },
  {
   "cell_type": "code",
   "execution_count": 6,
   "id": "d99091a4-af5b-40a4-93a6-350c669f8194",
   "metadata": {},
   "outputs": [
    {
     "data": {
      "text/plain": [
       "<minsearch.Index at 0x79a667a55d00>"
      ]
     },
     "execution_count": 6,
     "metadata": {},
     "output_type": "execute_result"
    }
   ],
   "source": [
    "index = minsearch.Index(text_fields=[\"term\", \"category\", \"description\",\"id\"],\n",
    "                        keyword_fields=[]\n",
    ")\n",
    "\n",
    "index.fit(documents)"
   ]
  },
  {
   "cell_type": "markdown",
   "id": "2268d830-4fd2-4f0a-87ec-608834e634d0",
   "metadata": {},
   "source": [
    "# RAG flow"
   ]
  },
  {
   "cell_type": "code",
   "execution_count": 7,
   "id": "278ca1bc-28b7-46c0-a958-4c38aa86e28b",
   "metadata": {},
   "outputs": [],
   "source": [
    "load_dotenv()\n",
    "api_key = os.getenv('OPENAI_API_KEY')"
   ]
  },
  {
   "cell_type": "code",
   "execution_count": 8,
   "id": "a70ba298-3e72-48f7-adbc-16530c5565f1",
   "metadata": {},
   "outputs": [],
   "source": [
    "client = OpenAI(api_key=api_key)"
   ]
  },
  {
   "cell_type": "code",
   "execution_count": 22,
   "id": "9140fb42-e0f2-4947-b560-11c382ca70f8",
   "metadata": {},
   "outputs": [],
   "source": [
    "def search(q):\n",
    "    boost = {'term': 1.0, 'category': 1.0}\n",
    "\n",
    "    results = index.search(\n",
    "        query=q,\n",
    "        boost_dict=boost,\n",
    "        num_results=10\n",
    "    )\n",
    "    return results\n",
    "\n",
    "prompt_template = \"\"\"\n",
    "You're a crypto linguist. Answer the QUESTION based on the CONTEXT from our specially curated database.\n",
    "Use only the facts from the CONTEXT when answering the QUESTION and do not add anything else. \n",
    "If context doesn't provide relevant information, mention that you need to\n",
    "update the knowledge base to answer the user question.\n",
    "\n",
    "QUESTION: {question}\n",
    "CONTEXT: \n",
    "{context}\n",
    "\"\"\".strip()\n",
    "\n",
    "entry_template = \"\"\"\n",
    "id:{id}\n",
    "term:{term}\n",
    "category:{category}\n",
    "description:{description}\n",
    "\"\"\".strip()\n",
    "\n",
    "def build_prompt(query, search_results):\n",
    "    context = \"\"\n",
    "\n",
    "    for doc in search_results:\n",
    "        context = context + entry_template.format(**doc) + \"\\n\\n\"\n",
    "\n",
    "    prompt = prompt_template.format(question=query, context=context).strip()\n",
    "    return prompt\n",
    "\n",
    "def llm(prompt,model='gpt-4o-mini'):\n",
    "    response = client.chat.completions.create(model=model,\n",
    "               messages = [{\"role\":\"user\",\"content\":prompt}])\n",
    "    return response.choices[0].message.content\n",
    "\n",
    "\n",
    "def rag_response(q,model='gpt-4o-mini'):\n",
    "    context = search(q)\n",
    "    prompt = build_prompt(q, context)\n",
    "    answer = llm(prompt,model=model)\n",
    "    return answer"
   ]
  },
  {
   "cell_type": "code",
   "execution_count": 9,
   "id": "5a65c9a3-7691-4cd7-9b40-0dec1dd26540",
   "metadata": {},
   "outputs": [
    {
     "data": {
      "text/plain": [
       "'Proof of Work (PoW) is a consensus algorithm where miners solve complex cryptographic puzzles to validate transactions and create new blocks, requiring significant computational power and energy. This mechanism ensures network security and prevents double-spending by making attacks costly and resource-intensive.\\n\\nIn contrast, Proof of Stake (PoS) is a consensus mechanism where validators are chosen to create new blocks based on the amount of cryptocurrency they hold and are willing to \"stake\" as collateral. PoS is energy-efficient compared to PoW and incentivizes validators to act in the network’s best interest.\\n\\nIn summary, the main differences are:\\n\\n- **Mechanism**: PoW relies on computational power and puzzle-solving, while PoS relies on the amount of cryptocurrency staked.\\n- **Energy Consumption**: PoW requires significant energy, whereas PoS is more energy-efficient.'"
      ]
     },
     "execution_count": 9,
     "metadata": {},
     "output_type": "execute_result"
    }
   ],
   "source": [
    "query = 'explain the difference between proof of work and proof of stake?'\n",
    "answer = rag_response(query)\n",
    "answer"
   ]
  },
  {
   "cell_type": "markdown",
   "id": "765ad334-016c-48db-8a5b-b034cdff4384",
   "metadata": {},
   "source": [
    "# Retrieval Evaluation"
   ]
  },
  {
   "cell_type": "code",
   "execution_count": 11,
   "id": "7952c2b0-e709-47f9-aa40-a2ef80a90325",
   "metadata": {},
   "outputs": [],
   "source": [
    "df_eval = pd.read_csv('../data/crypto-guru-ground-truth-data.csv')"
   ]
  },
  {
   "cell_type": "code",
   "execution_count": 12,
   "id": "d592f7c3-e131-4f99-9628-51965ee3c7ef",
   "metadata": {},
   "outputs": [],
   "source": [
    "df_eval.columns = ['question','id']"
   ]
  },
  {
   "cell_type": "code",
   "execution_count": 13,
   "id": "0e3fa2ea-6c3c-48bd-9015-f4e18427dc6a",
   "metadata": {},
   "outputs": [],
   "source": [
    "ground_truth = df_eval.to_dict(orient='records')"
   ]
  },
  {
   "cell_type": "code",
   "execution_count": 14,
   "id": "f74d6aaf-c4e4-43e1-b9d8-38ecde0fb7d1",
   "metadata": {},
   "outputs": [
    {
     "data": {
      "text/plain": [
       "{'question': 'What happens during a 34% attack in a blockchain network?',\n",
       " 'id': '4c1e419c'}"
      ]
     },
     "execution_count": 14,
     "metadata": {},
     "output_type": "execute_result"
    }
   ],
   "source": [
    "ground_truth[0]"
   ]
  },
  {
   "cell_type": "code",
   "execution_count": 14,
   "id": "32e90018-d98d-45e4-9bdd-f2b998c9d04f",
   "metadata": {},
   "outputs": [],
   "source": [
    "def hit_rate(relevance_total):\n",
    "    cnt = 0\n",
    "\n",
    "    for line in relevance_total:\n",
    "        if True in line:\n",
    "            cnt = cnt + 1\n",
    "\n",
    "    return cnt / len(relevance_total)\n",
    "\n",
    "def mrr(relevance_total):\n",
    "    total_score = 0.0\n",
    "\n",
    "    for line in relevance_total:\n",
    "        for rank in range(len(line)):\n",
    "            if line[rank] == True:\n",
    "                total_score = total_score + 1 / (rank + 1)\n",
    "\n",
    "    return total_score / len(relevance_total)\n",
    "\n",
    "def minsearch_search(q):\n",
    "    boost = {}\n",
    "\n",
    "    results = index.search(\n",
    "        query=q['question'],\n",
    "        filter_dict={},\n",
    "        boost_dict=boost,\n",
    "        num_results=10\n",
    "    )\n",
    "\n",
    "    return results\n",
    "    \n",
    "def evaluate(ground_truth, search_function):\n",
    "    relevance_total = []\n",
    "\n",
    "    for q in tqdm(ground_truth):\n",
    "        doc_id = q['id']\n",
    "        results = search_function(q)\n",
    "        relevance = [d['id'] == doc_id for d in results]\n",
    "        relevance_total.append(relevance)\n",
    "\n",
    "    return {\n",
    "        'hit_rate': hit_rate(relevance_total),\n",
    "        'mrr': mrr(relevance_total),\n",
    "    }"
   ]
  },
  {
   "cell_type": "code",
   "execution_count": 28,
   "id": "1070d285-a297-482d-a3be-f4c7ed9aa587",
   "metadata": {},
   "outputs": [],
   "source": [
    "from tqdm.auto import tqdm\n",
    "evaluate(ground_truth, lambda q: minsearch_search(q))"
   ]
  },
  {
   "cell_type": "markdown",
   "id": "d23a229a-66c8-4946-aa87-bae55c4698bb",
   "metadata": {},
   "source": [
    "# Finding the best parameters for best retrieval"
   ]
  },
  {
   "cell_type": "code",
   "execution_count": 16,
   "id": "c03ee5c0-e167-4b23-93d2-dd66c6ce24c0",
   "metadata": {},
   "outputs": [],
   "source": [
    "df_valid = df_eval[:100]\n",
    "df_test = df_eval[100:]"
   ]
  },
  {
   "cell_type": "code",
   "execution_count": 17,
   "id": "0cbf0aee-8a7f-48b4-85a3-30f1f7612059",
   "metadata": {},
   "outputs": [],
   "source": [
    "import random\n",
    "\n",
    "def simple_optimize(param_ranges, objective_function, n_iterations=10):\n",
    "    best_params = None\n",
    "    best_score = float('-inf')  # Assuming we're minimizing. Use float('inf') if maximizing.\n",
    "\n",
    "    for _ in range(n_iterations):\n",
    "        # Generate random parameters\n",
    "        current_params = {}\n",
    "        for param, (min_val, max_val) in param_ranges.items():\n",
    "            if isinstance(min_val, int) and isinstance(max_val, int):\n",
    "                current_params[param] = random.randint(min_val, max_val)\n",
    "            else:\n",
    "                current_params[param] = random.uniform(min_val, max_val)\n",
    "        \n",
    "        # Evaluate the objective function\n",
    "        current_score = objective_function(current_params)\n",
    "        \n",
    "        # Update best if current is better\n",
    "        if current_score > best_score:  # Change to > if maximizing\n",
    "            best_score = current_score\n",
    "            best_params = current_params\n",
    "    \n",
    "    return best_params, best_score"
   ]
  },
  {
   "cell_type": "code",
   "execution_count": 18,
   "id": "0731a4b2-e8eb-45fc-a8e6-02776d795325",
   "metadata": {},
   "outputs": [],
   "source": [
    "gt_valid = df_valid.to_dict(orient='records')"
   ]
  },
  {
   "cell_type": "code",
   "execution_count": 19,
   "id": "59478c7a-2120-48db-b11f-884c9707dfe0",
   "metadata": {},
   "outputs": [],
   "source": [
    "def ms_search(q, boost=None):\n",
    "    if boost is None:\n",
    "        boost = {}\n",
    "\n",
    "    results = index.search(\n",
    "        query=q['question'],\n",
    "        filter_dict={},\n",
    "        boost_dict=boost,\n",
    "        num_results=10\n",
    "    )\n",
    "\n",
    "    return results"
   ]
  },
  {
   "cell_type": "code",
   "execution_count": 20,
   "id": "485d87cd-4a4a-42d3-a74f-345fb7a1ca96",
   "metadata": {},
   "outputs": [],
   "source": [
    "param_ranges = {\n",
    "    'term': (0.0, 3.0),\n",
    "    'category': (0.0, 3.0),\n",
    "    'descriptions':(0.0,3.0)\n",
    "}\n",
    "\n",
    "def objective(boost_params):\n",
    "    def search_function(q):\n",
    "        return ms_search(q, boost_params)\n",
    "\n",
    "    results = evaluate(gt_valid, search_function)\n",
    "    return results['mrr']"
   ]
  },
  {
   "cell_type": "code",
   "execution_count": 21,
   "id": "df47d48c-9808-4cb1-a782-cabdf0a08c3a",
   "metadata": {},
   "outputs": [
    {
     "name": "stderr",
     "output_type": "stream",
     "text": [
      "100%|████████████████████████████████████████████████████████████████████████████████| 100/100 [00:00<00:00, 334.76it/s]\n",
      "100%|████████████████████████████████████████████████████████████████████████████████| 100/100 [00:00<00:00, 339.61it/s]\n",
      "100%|████████████████████████████████████████████████████████████████████████████████| 100/100 [00:00<00:00, 354.50it/s]\n",
      "100%|████████████████████████████████████████████████████████████████████████████████| 100/100 [00:00<00:00, 273.78it/s]\n",
      "100%|████████████████████████████████████████████████████████████████████████████████| 100/100 [00:00<00:00, 271.43it/s]\n",
      "100%|████████████████████████████████████████████████████████████████████████████████| 100/100 [00:00<00:00, 262.99it/s]\n",
      "100%|████████████████████████████████████████████████████████████████████████████████| 100/100 [00:00<00:00, 342.55it/s]\n",
      "100%|████████████████████████████████████████████████████████████████████████████████| 100/100 [00:00<00:00, 328.90it/s]\n",
      "100%|████████████████████████████████████████████████████████████████████████████████| 100/100 [00:00<00:00, 353.26it/s]\n",
      "100%|████████████████████████████████████████████████████████████████████████████████| 100/100 [00:00<00:00, 348.39it/s]\n",
      "100%|████████████████████████████████████████████████████████████████████████████████| 100/100 [00:00<00:00, 349.84it/s]\n",
      "100%|████████████████████████████████████████████████████████████████████████████████| 100/100 [00:00<00:00, 348.01it/s]\n",
      "100%|████████████████████████████████████████████████████████████████████████████████| 100/100 [00:00<00:00, 349.93it/s]\n",
      "100%|████████████████████████████████████████████████████████████████████████████████| 100/100 [00:00<00:00, 344.91it/s]\n",
      "100%|████████████████████████████████████████████████████████████████████████████████| 100/100 [00:00<00:00, 272.51it/s]\n",
      "100%|████████████████████████████████████████████████████████████████████████████████| 100/100 [00:00<00:00, 350.32it/s]\n",
      "100%|████████████████████████████████████████████████████████████████████████████████| 100/100 [00:00<00:00, 343.91it/s]\n",
      "100%|████████████████████████████████████████████████████████████████████████████████| 100/100 [00:00<00:00, 337.94it/s]\n",
      "100%|████████████████████████████████████████████████████████████████████████████████| 100/100 [00:00<00:00, 347.68it/s]\n",
      "100%|████████████████████████████████████████████████████████████████████████████████| 100/100 [00:00<00:00, 354.01it/s]\n"
     ]
    },
    {
     "data": {
      "text/plain": [
       "({'term': 0.39530280957136266,\n",
       "  'category': 0.15201292701371005,\n",
       "  'descriptions': 0.2296734857432715},\n",
       " 0.9372619047619049)"
      ]
     },
     "execution_count": 21,
     "metadata": {},
     "output_type": "execute_result"
    }
   ],
   "source": [
    "simple_optimize(param_ranges, objective, n_iterations=20)"
   ]
  },
  {
   "cell_type": "code",
   "execution_count": 23,
   "id": "a79f779f-18a5-413e-ae59-d616c1c038e3",
   "metadata": {},
   "outputs": [],
   "source": [
    "# Evaluating entire ground truth dataset with optimized parameters on minsearch boosting\n",
    "def minsearch_optimized(q):\n",
    "    boost={'term':0.39,\n",
    "           'category':0.15,\n",
    "           'descriptions':0.23\n",
    "          }\n",
    "\n",
    "    results = index.search(\n",
    "        query=q['question'],\n",
    "        filter_dict={},\n",
    "        boost_dict=boost,\n",
    "        num_results=10\n",
    "    )\n",
    "\n",
    "    return results"
   ]
  },
  {
   "cell_type": "code",
   "execution_count": 25,
   "id": "d7bd409e-23f3-42ae-9906-1fd872e08fcc",
   "metadata": {},
   "outputs": [
    {
     "name": "stderr",
     "output_type": "stream",
     "text": [
      "100%|████████████████████████████████████████████████████████████████████████████████| 903/903 [00:02<00:00, 329.01it/s]\n"
     ]
    },
    {
     "data": {
      "text/plain": [
       "{'hit_rate': 0.9955703211517165, 'mrr': 0.9572905131044668}"
      ]
     },
     "execution_count": 25,
     "metadata": {},
     "output_type": "execute_result"
    }
   ],
   "source": [
    "evaluate(ground_truth, lambda q: minsearch_optimized(q))"
   ]
  },
  {
   "cell_type": "markdown",
   "id": "6836a785-7949-4185-8c67-0f9d22bf0cd3",
   "metadata": {},
   "source": [
    "# RAG Evaluation : gpt-4o-mini"
   ]
  },
  {
   "cell_type": "code",
   "execution_count": 15,
   "id": "dfea9ba6-47be-42ce-b6c1-dfe2427d46b2",
   "metadata": {},
   "outputs": [],
   "source": [
    "prompt2_template = \"\"\"\n",
    "You are an expert evaluator for a RAG system.\n",
    "Your task is to analyze the relevance of the generated answer to the given question.\n",
    "Based on the relevance of the generated answer, you will classify it\n",
    "as \"NON_RELEVANT\", \"PARTLY_RELEVANT\", or \"RELEVANT\".\n",
    "\n",
    "Here is the data for evaluation:\n",
    "\n",
    "Question: {question}\n",
    "Generated Answer: {answer_llm}\n",
    "\n",
    "Please analyze the content and context of the generated answer in relation to the question\n",
    "and provide your evaluation in parsable JSON without using code blocks:\n",
    "\n",
    "{{\n",
    "  \"Relevance\": \"NON_RELEVANT\" | \"PARTLY_RELEVANT\" | \"RELEVANT\",\n",
    "  \"Explanation\": \"[Provide a brief explanation for your evaluation]\"\n",
    "}}\n",
    "\"\"\".strip()"
   ]
  },
  {
   "cell_type": "code",
   "execution_count": 16,
   "id": "aa12105a-7666-42e8-8933-c7b2659a03aa",
   "metadata": {},
   "outputs": [
    {
     "data": {
      "text/plain": [
       "903"
      ]
     },
     "execution_count": 16,
     "metadata": {},
     "output_type": "execute_result"
    }
   ],
   "source": [
    "len(ground_truth)"
   ]
  },
  {
   "cell_type": "code",
   "execution_count": 17,
   "id": "78a5f31d-37d2-4a82-be9e-867e376a169a",
   "metadata": {},
   "outputs": [
    {
     "data": {
      "text/plain": [
       "{'question': 'What happens during a 34% attack in a blockchain network?',\n",
       " 'id': '4c1e419c'}"
      ]
     },
     "execution_count": 17,
     "metadata": {},
     "output_type": "execute_result"
    }
   ],
   "source": [
    "ground_truth[0]"
   ]
  },
  {
   "cell_type": "code",
   "execution_count": 18,
   "id": "bca1f434-c5af-401e-a897-67e8a1a3c342",
   "metadata": {},
   "outputs": [],
   "source": [
    "question = ground_truth[0]['question']"
   ]
  },
  {
   "cell_type": "code",
   "execution_count": 19,
   "id": "110a5e33-025c-481a-af5b-ed6dfd8fad69",
   "metadata": {},
   "outputs": [
    {
     "data": {
      "text/plain": [
       "\"During a 34% attack in a blockchain network, an entity that controls more than 34% of the network's power or stake can manipulate consensus mechanisms. This level of control allows the entity to disrupt the network, validate fraudulent transactions, or halt consensus, ultimately compromising the integrity of the blockchain.\""
      ]
     },
     "execution_count": 19,
     "metadata": {},
     "output_type": "execute_result"
    }
   ],
   "source": [
    "rag_response(question)"
   ]
  },
  {
   "cell_type": "code",
   "execution_count": 20,
   "id": "82275e50-ef95-4058-83d8-f989b0b33349",
   "metadata": {},
   "outputs": [],
   "source": [
    "df_sample = df_eval.sample(n=100, random_state=1)"
   ]
  },
  {
   "cell_type": "code",
   "execution_count": 21,
   "id": "ae5c0e12-824e-4e4c-9aed-750e3ddb4055",
   "metadata": {},
   "outputs": [],
   "source": [
    "sample = df_sample.to_dict(orient='records')"
   ]
  },
  {
   "cell_type": "code",
   "execution_count": 37,
   "id": "08951bde-a2ca-45be-b228-a7b8d3e35b71",
   "metadata": {},
   "outputs": [
    {
     "name": "stderr",
     "output_type": "stream",
     "text": [
      "100%|█████████████████████████████████████████████████████████████████████████████████| 100/100 [06:12<00:00,  3.72s/it]\n"
     ]
    }
   ],
   "source": [
    "evaluations = []\n",
    "\n",
    "for record in tqdm(sample):\n",
    "    question = record['question']\n",
    "    answer_llm = rag_response(question) \n",
    "\n",
    "    prompt = prompt2_template.format(\n",
    "        question=question,\n",
    "        answer_llm=answer_llm\n",
    "    )\n",
    "\n",
    "    evaluation = llm(prompt)\n",
    "    evaluation = json.loads(evaluation)\n",
    "\n",
    "    evaluations.append((record, answer_llm, evaluation))"
   ]
  },
  {
   "cell_type": "code",
   "execution_count": 38,
   "id": "9de60eb4-badc-42c1-aafb-1c5705536181",
   "metadata": {},
   "outputs": [],
   "source": [
    "df_result = pd.DataFrame(evaluations, columns=['record', 'answer', 'evaluation'])\n",
    "\n",
    "df_result['id'] = df_result.record.apply(lambda d: d['id'])\n",
    "df_result['question'] = df_result.record.apply(lambda d: d['question'])\n",
    "\n",
    "df_result['relevance'] = df_result.evaluation.apply(lambda d: d['Relevance'])\n",
    "df_result['explanation'] = df_result.evaluation.apply(lambda d: d['Explanation'])\n",
    "\n",
    "del df_result['record']\n",
    "del df_result['evaluation']"
   ]
  },
  {
   "cell_type": "code",
   "execution_count": 40,
   "id": "e8d473f8-0da2-437f-a46e-eeedc24e8ee8",
   "metadata": {},
   "outputs": [
    {
     "data": {
      "text/plain": [
       "relevance\n",
       "RELEVANT           0.86\n",
       "NON_RELEVANT       0.09\n",
       "PARTLY_RELEVANT    0.05\n",
       "Name: proportion, dtype: float64"
      ]
     },
     "execution_count": 40,
     "metadata": {},
     "output_type": "execute_result"
    }
   ],
   "source": [
    "df_result.relevance.value_counts(normalize=True)"
   ]
  },
  {
   "cell_type": "code",
   "execution_count": 42,
   "id": "23d129c4-654a-4f2e-a7ae-2872d9088413",
   "metadata": {},
   "outputs": [
    {
     "data": {
      "text/html": [
       "<div>\n",
       "<style scoped>\n",
       "    .dataframe tbody tr th:only-of-type {\n",
       "        vertical-align: middle;\n",
       "    }\n",
       "\n",
       "    .dataframe tbody tr th {\n",
       "        vertical-align: top;\n",
       "    }\n",
       "\n",
       "    .dataframe thead th {\n",
       "        text-align: right;\n",
       "    }\n",
       "</style>\n",
       "<table border=\"1\" class=\"dataframe\">\n",
       "  <thead>\n",
       "    <tr style=\"text-align: right;\">\n",
       "      <th></th>\n",
       "      <th>answer</th>\n",
       "      <th>id</th>\n",
       "      <th>question</th>\n",
       "      <th>relevance</th>\n",
       "      <th>explanation</th>\n",
       "    </tr>\n",
       "  </thead>\n",
       "  <tbody>\n",
       "    <tr>\n",
       "      <th>8</th>\n",
       "      <td>The context provided does not include any info...</td>\n",
       "      <td>dd4a43c6</td>\n",
       "      <td>How does the mechanism of 'Rebase' affect the ...</td>\n",
       "      <td>NON_RELEVANT</td>\n",
       "      <td>The generated answer does not address the ques...</td>\n",
       "    </tr>\n",
       "    <tr>\n",
       "      <th>14</th>\n",
       "      <td>I need to update the knowledge base to answer ...</td>\n",
       "      <td>791e80c7</td>\n",
       "      <td>Who created Polkadot and what were the main is...</td>\n",
       "      <td>NON_RELEVANT</td>\n",
       "      <td>The generated answer does not provide any info...</td>\n",
       "    </tr>\n",
       "    <tr>\n",
       "      <th>27</th>\n",
       "      <td>The context does not provide specific examples...</td>\n",
       "      <td>9a4b625f</td>\n",
       "      <td>What are some examples of security techniques ...</td>\n",
       "      <td>NON_RELEVANT</td>\n",
       "      <td>The generated answer does not address the ques...</td>\n",
       "    </tr>\n",
       "    <tr>\n",
       "      <th>38</th>\n",
       "      <td>I need to update the knowledge base to answer ...</td>\n",
       "      <td>9fccc278</td>\n",
       "      <td>What is the purpose of the Tron blockchain pla...</td>\n",
       "      <td>NON_RELEVANT</td>\n",
       "      <td>The generated answer does not address the ques...</td>\n",
       "    </tr>\n",
       "    <tr>\n",
       "      <th>50</th>\n",
       "      <td>The context provided does not contain informat...</td>\n",
       "      <td>30901c73</td>\n",
       "      <td>How does timestamping contribute to the securi...</td>\n",
       "      <td>NON_RELEVANT</td>\n",
       "      <td>The generated answer explicitly states that it...</td>\n",
       "    </tr>\n",
       "    <tr>\n",
       "      <th>63</th>\n",
       "      <td>The context does not provide relevant informat...</td>\n",
       "      <td>92adce1a</td>\n",
       "      <td>How does Enigma ensure the confidentiality of ...</td>\n",
       "      <td>NON_RELEVANT</td>\n",
       "      <td>The generated answer indicates that there is n...</td>\n",
       "    </tr>\n",
       "    <tr>\n",
       "      <th>78</th>\n",
       "      <td>The context does not provide specific informat...</td>\n",
       "      <td>e560504b</td>\n",
       "      <td>How does Trust Wallet ensure the security of m...</td>\n",
       "      <td>NON_RELEVANT</td>\n",
       "      <td>The generated answer explicitly states that th...</td>\n",
       "    </tr>\n",
       "    <tr>\n",
       "      <th>94</th>\n",
       "      <td>The context provided does not contain specific...</td>\n",
       "      <td>74e61101</td>\n",
       "      <td>In what way do smart contracts contribute to t...</td>\n",
       "      <td>NON_RELEVANT</td>\n",
       "      <td>The generated answer does not address the ques...</td>\n",
       "    </tr>\n",
       "    <tr>\n",
       "      <th>95</th>\n",
       "      <td>The context provided does not include any spec...</td>\n",
       "      <td>c7775f58</td>\n",
       "      <td>What role does community engagement play in th...</td>\n",
       "      <td>NON_RELEVANT</td>\n",
       "      <td>The generated answer fails to address the ques...</td>\n",
       "    </tr>\n",
       "  </tbody>\n",
       "</table>\n",
       "</div>"
      ],
      "text/plain": [
       "                                               answer        id  \\\n",
       "8   The context provided does not include any info...  dd4a43c6   \n",
       "14  I need to update the knowledge base to answer ...  791e80c7   \n",
       "27  The context does not provide specific examples...  9a4b625f   \n",
       "38  I need to update the knowledge base to answer ...  9fccc278   \n",
       "50  The context provided does not contain informat...  30901c73   \n",
       "63  The context does not provide relevant informat...  92adce1a   \n",
       "78  The context does not provide specific informat...  e560504b   \n",
       "94  The context provided does not contain specific...  74e61101   \n",
       "95  The context provided does not include any spec...  c7775f58   \n",
       "\n",
       "                                             question     relevance  \\\n",
       "8   How does the mechanism of 'Rebase' affect the ...  NON_RELEVANT   \n",
       "14  Who created Polkadot and what were the main is...  NON_RELEVANT   \n",
       "27  What are some examples of security techniques ...  NON_RELEVANT   \n",
       "38  What is the purpose of the Tron blockchain pla...  NON_RELEVANT   \n",
       "50  How does timestamping contribute to the securi...  NON_RELEVANT   \n",
       "63  How does Enigma ensure the confidentiality of ...  NON_RELEVANT   \n",
       "78  How does Trust Wallet ensure the security of m...  NON_RELEVANT   \n",
       "94  In what way do smart contracts contribute to t...  NON_RELEVANT   \n",
       "95  What role does community engagement play in th...  NON_RELEVANT   \n",
       "\n",
       "                                          explanation  \n",
       "8   The generated answer does not address the ques...  \n",
       "14  The generated answer does not provide any info...  \n",
       "27  The generated answer does not address the ques...  \n",
       "38  The generated answer does not address the ques...  \n",
       "50  The generated answer explicitly states that it...  \n",
       "63  The generated answer indicates that there is n...  \n",
       "78  The generated answer explicitly states that th...  \n",
       "94  The generated answer does not address the ques...  \n",
       "95  The generated answer fails to address the ques...  "
      ]
     },
     "execution_count": 42,
     "metadata": {},
     "output_type": "execute_result"
    }
   ],
   "source": [
    "df_result[df_result['relevance']=='NON_RELEVANT']"
   ]
  },
  {
   "cell_type": "markdown",
   "id": "b1c19b30-7c4c-4d64-915a-c48ea1c575b2",
   "metadata": {},
   "source": [
    "# RAG Evaluation : gpt-4o"
   ]
  },
  {
   "cell_type": "code",
   "execution_count": 29,
   "id": "c38162c6-77d4-4d93-a10c-6ad7185450e1",
   "metadata": {},
   "outputs": [],
   "source": [
    "# Cosine Similarity : can't perform as we don't have original answers "
   ]
  },
  {
   "cell_type": "code",
   "execution_count": 24,
   "id": "3c53a099-b00c-4c60-8620-7b53aafafe5f",
   "metadata": {},
   "outputs": [
    {
     "data": {
      "text/plain": [
       "\"During a 34% attack in a blockchain network, an entity that controls more than 34% of the network's power or stake can potentially manipulate the consensus mechanisms, particularly in Proof-of-Stake (PoS) networks. Such a level of control allows the entity to disrupt the network by validating fraudulent transactions or halting consensus. This compromises the integrity of the blockchain by enabling actions that can undermine its security and decentralization.\""
      ]
     },
     "execution_count": 24,
     "metadata": {},
     "output_type": "execute_result"
    }
   ],
   "source": [
    "rag_response(question,model='gpt-4o')"
   ]
  },
  {
   "cell_type": "code",
   "execution_count": 30,
   "id": "6636cf84-3e99-4558-bdaa-1a87f8106fde",
   "metadata": {},
   "outputs": [
    {
     "name": "stderr",
     "output_type": "stream",
     "text": [
      "100%|█████████████████████████████████████████████████████████████████████████████████| 100/100 [05:08<00:00,  3.09s/it]\n"
     ]
    }
   ],
   "source": [
    "evaluations_gpt4o = []\n",
    "\n",
    "for record in tqdm(sample):\n",
    "    question = record['question']\n",
    "    answer_llm = rag_response(question,model='gpt-4o') \n",
    "\n",
    "    prompt = prompt2_template.format(\n",
    "        question=question,\n",
    "        answer_llm=answer_llm\n",
    "    )\n",
    "\n",
    "    evaluation = llm(prompt)\n",
    "    evaluation = json.loads(evaluation)\n",
    "\n",
    "    evaluations_gpt4o.append((record, answer_llm, evaluation))"
   ]
  },
  {
   "cell_type": "code",
   "execution_count": 31,
   "id": "e8bbf205-9ab2-4d7e-8552-a3c5029a4b3c",
   "metadata": {},
   "outputs": [],
   "source": [
    "df_result_gpt4o = pd.DataFrame(evaluations_gpt4o, columns=['record', 'answer', 'evaluation'])\n",
    "\n",
    "df_result_gpt4o['id'] = df_result_gpt4o.record.apply(lambda d: d['id'])\n",
    "df_result_gpt4o['question'] = df_result_gpt4o.record.apply(lambda d: d['question'])\n",
    "\n",
    "df_result_gpt4o['relevance'] = df_result_gpt4o.evaluation.apply(lambda d: d['Relevance'])\n",
    "df_result_gpt4o['explanation'] = df_result_gpt4o.evaluation.apply(lambda d: d['Explanation'])\n",
    "\n",
    "del df_result_gpt4o['record']\n",
    "del df_result_gpt4o['evaluation']"
   ]
  },
  {
   "cell_type": "code",
   "execution_count": 32,
   "id": "b2c62e84-d782-404e-bc44-faf98cf4e2da",
   "metadata": {},
   "outputs": [
    {
     "data": {
      "text/plain": [
       "relevance\n",
       "RELEVANT           0.87\n",
       "NON_RELEVANT       0.07\n",
       "PARTLY_RELEVANT    0.06\n",
       "Name: proportion, dtype: float64"
      ]
     },
     "execution_count": 32,
     "metadata": {},
     "output_type": "execute_result"
    }
   ],
   "source": [
    "df_result_gpt4o.relevance.value_counts(normalize=True)"
   ]
  },
  {
   "cell_type": "code",
   "execution_count": 33,
   "id": "9bedf5d5-78cb-4e98-b698-32f97040c077",
   "metadata": {},
   "outputs": [
    {
     "data": {
      "text/html": [
       "<div>\n",
       "<style scoped>\n",
       "    .dataframe tbody tr th:only-of-type {\n",
       "        vertical-align: middle;\n",
       "    }\n",
       "\n",
       "    .dataframe tbody tr th {\n",
       "        vertical-align: top;\n",
       "    }\n",
       "\n",
       "    .dataframe thead th {\n",
       "        text-align: right;\n",
       "    }\n",
       "</style>\n",
       "<table border=\"1\" class=\"dataframe\">\n",
       "  <thead>\n",
       "    <tr style=\"text-align: right;\">\n",
       "      <th></th>\n",
       "      <th>answer</th>\n",
       "      <th>id</th>\n",
       "      <th>question</th>\n",
       "      <th>relevance</th>\n",
       "      <th>explanation</th>\n",
       "    </tr>\n",
       "  </thead>\n",
       "  <tbody>\n",
       "    <tr>\n",
       "      <th>8</th>\n",
       "      <td>I need to update the knowledge base to answer ...</td>\n",
       "      <td>dd4a43c6</td>\n",
       "      <td>How does the mechanism of 'Rebase' affect the ...</td>\n",
       "      <td>NON_RELEVANT</td>\n",
       "      <td>The generated answer does not address the ques...</td>\n",
       "    </tr>\n",
       "    <tr>\n",
       "      <th>14</th>\n",
       "      <td>I need to update the knowledge base to answer ...</td>\n",
       "      <td>791e80c7</td>\n",
       "      <td>Who created Polkadot and what were the main is...</td>\n",
       "      <td>NON_RELEVANT</td>\n",
       "      <td>The generated answer does not address the ques...</td>\n",
       "    </tr>\n",
       "    <tr>\n",
       "      <th>38</th>\n",
       "      <td>I need to update the knowledge base to answer ...</td>\n",
       "      <td>9fccc278</td>\n",
       "      <td>What is the purpose of the Tron blockchain pla...</td>\n",
       "      <td>NON_RELEVANT</td>\n",
       "      <td>The generated answer does not provide any info...</td>\n",
       "    </tr>\n",
       "    <tr>\n",
       "      <th>50</th>\n",
       "      <td>I need to update the knowledge base to answer ...</td>\n",
       "      <td>30901c73</td>\n",
       "      <td>How does timestamping contribute to the securi...</td>\n",
       "      <td>NON_RELEVANT</td>\n",
       "      <td>The generated answer does not address the ques...</td>\n",
       "    </tr>\n",
       "    <tr>\n",
       "      <th>63</th>\n",
       "      <td>I need to update the knowledge base to answer ...</td>\n",
       "      <td>92adce1a</td>\n",
       "      <td>How does Enigma ensure the confidentiality of ...</td>\n",
       "      <td>NON_RELEVANT</td>\n",
       "      <td>The generated answer does not address the ques...</td>\n",
       "    </tr>\n",
       "    <tr>\n",
       "      <th>94</th>\n",
       "      <td>I need to update the knowledge base to answer ...</td>\n",
       "      <td>74e61101</td>\n",
       "      <td>In what way do smart contracts contribute to t...</td>\n",
       "      <td>NON_RELEVANT</td>\n",
       "      <td>The generated answer does not address the ques...</td>\n",
       "    </tr>\n",
       "    <tr>\n",
       "      <th>95</th>\n",
       "      <td>The context provided does not cover the role o...</td>\n",
       "      <td>c7775f58</td>\n",
       "      <td>What role does community engagement play in th...</td>\n",
       "      <td>NON_RELEVANT</td>\n",
       "      <td>The generated answer explicitly states that it...</td>\n",
       "    </tr>\n",
       "  </tbody>\n",
       "</table>\n",
       "</div>"
      ],
      "text/plain": [
       "                                               answer        id  \\\n",
       "8   I need to update the knowledge base to answer ...  dd4a43c6   \n",
       "14  I need to update the knowledge base to answer ...  791e80c7   \n",
       "38  I need to update the knowledge base to answer ...  9fccc278   \n",
       "50  I need to update the knowledge base to answer ...  30901c73   \n",
       "63  I need to update the knowledge base to answer ...  92adce1a   \n",
       "94  I need to update the knowledge base to answer ...  74e61101   \n",
       "95  The context provided does not cover the role o...  c7775f58   \n",
       "\n",
       "                                             question     relevance  \\\n",
       "8   How does the mechanism of 'Rebase' affect the ...  NON_RELEVANT   \n",
       "14  Who created Polkadot and what were the main is...  NON_RELEVANT   \n",
       "38  What is the purpose of the Tron blockchain pla...  NON_RELEVANT   \n",
       "50  How does timestamping contribute to the securi...  NON_RELEVANT   \n",
       "63  How does Enigma ensure the confidentiality of ...  NON_RELEVANT   \n",
       "94  In what way do smart contracts contribute to t...  NON_RELEVANT   \n",
       "95  What role does community engagement play in th...  NON_RELEVANT   \n",
       "\n",
       "                                          explanation  \n",
       "8   The generated answer does not address the ques...  \n",
       "14  The generated answer does not address the ques...  \n",
       "38  The generated answer does not provide any info...  \n",
       "50  The generated answer does not address the ques...  \n",
       "63  The generated answer does not address the ques...  \n",
       "94  The generated answer does not address the ques...  \n",
       "95  The generated answer explicitly states that it...  "
      ]
     },
     "execution_count": 33,
     "metadata": {},
     "output_type": "execute_result"
    }
   ],
   "source": [
    "df_result_gpt4o[df_result_gpt4o['relevance']=='NON_RELEVANT']"
   ]
  },
  {
   "cell_type": "code",
   "execution_count": null,
   "id": "41b954cf-1a42-4443-be87-f277da6ec8e5",
   "metadata": {},
   "outputs": [],
   "source": []
  }
 ],
 "metadata": {
  "kernelspec": {
   "display_name": "Python 3 (ipykernel)",
   "language": "python",
   "name": "python3"
  },
  "language_info": {
   "codemirror_mode": {
    "name": "ipython",
    "version": 3
   },
   "file_extension": ".py",
   "mimetype": "text/x-python",
   "name": "python",
   "nbconvert_exporter": "python",
   "pygments_lexer": "ipython3",
   "version": "3.12.1"
  }
 },
 "nbformat": 4,
 "nbformat_minor": 5
}
