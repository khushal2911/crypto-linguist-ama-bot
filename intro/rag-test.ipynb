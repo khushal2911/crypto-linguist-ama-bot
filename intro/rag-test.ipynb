{
 "cells": [
  {
   "cell_type": "code",
   "execution_count": 1,
   "metadata": {},
   "outputs": [],
   "source": [
    "import pandas as pd\n",
    "import minsearch\n",
    "from openai import OpenAI\n",
    "from dotenv import load_dotenv\n",
    "import hashlib\n",
    "import json"
   ]
  },
  {
   "cell_type": "code",
   "execution_count": 2,
   "metadata": {},
   "outputs": [],
   "source": [
    "import os\n",
    "#load_dotenv() UNABLE TO FETCH THE KEY FROM .ENVRC FILE."
   ]
  },
  {
   "cell_type": "code",
   "execution_count": 4,
   "metadata": {},
   "outputs": [],
   "source": [
    "def generate_document_id(doc):\n",
    "    combined = f\"{doc['category']}-{doc['term']}-{doc['description'][:10]}\"\n",
    "    hash_object = hashlib.md5(combined.encode())\n",
    "    hash_hex = hash_object.hexdigest()\n",
    "    document_id = hash_hex[:8]\n",
    "    return document_id"
   ]
  },
  {
   "cell_type": "code",
   "execution_count": 5,
   "metadata": {},
   "outputs": [],
   "source": [
    "df = pd.read_csv('../data/crypto_linguist_data.csv')"
   ]
  },
  {
   "cell_type": "markdown",
   "metadata": {},
   "source": [
    "cleaning data"
   ]
  },
  {
   "cell_type": "code",
   "execution_count": 6,
   "metadata": {},
   "outputs": [
    {
     "data": {
      "text/plain": [
       "(301, 3)"
      ]
     },
     "execution_count": 6,
     "metadata": {},
     "output_type": "execute_result"
    }
   ],
   "source": [
    "df.columns = df.columns.str.lower()\n",
    "df.drop_duplicates(subset='term').shape\n",
    "#df.to_csv('../data/data.csv',index=False)"
   ]
  },
  {
   "cell_type": "code",
   "execution_count": 7,
   "metadata": {},
   "outputs": [
    {
     "data": {
      "text/html": [
       "<div>\n",
       "<style scoped>\n",
       "    .dataframe tbody tr th:only-of-type {\n",
       "        vertical-align: middle;\n",
       "    }\n",
       "\n",
       "    .dataframe tbody tr th {\n",
       "        vertical-align: top;\n",
       "    }\n",
       "\n",
       "    .dataframe thead th {\n",
       "        text-align: right;\n",
       "    }\n",
       "</style>\n",
       "<table border=\"1\" class=\"dataframe\">\n",
       "  <thead>\n",
       "    <tr style=\"text-align: right;\">\n",
       "      <th></th>\n",
       "      <th>term</th>\n",
       "      <th>category</th>\n",
       "      <th>description</th>\n",
       "    </tr>\n",
       "  </thead>\n",
       "  <tbody>\n",
       "    <tr>\n",
       "      <th>0</th>\n",
       "      <td>34% Attack</td>\n",
       "      <td>Security and Attacks</td>\n",
       "      <td>A 34% attack occurs when an entity controls mo...</td>\n",
       "    </tr>\n",
       "    <tr>\n",
       "      <th>1</th>\n",
       "      <td>51% Attack</td>\n",
       "      <td>Security and Attacks</td>\n",
       "      <td>A 51% attack occurs when an entity controls mo...</td>\n",
       "    </tr>\n",
       "    <tr>\n",
       "      <th>2</th>\n",
       "      <td>Aave</td>\n",
       "      <td>Decentralized Finance (DeFi) and Protocols</td>\n",
       "      <td>Aave is a decentralized lending protocol that ...</td>\n",
       "    </tr>\n",
       "    <tr>\n",
       "      <th>3</th>\n",
       "      <td>Aavegotchi</td>\n",
       "      <td>Decentralized Finance (DeFi) and Protocols</td>\n",
       "      <td>Aavegotchi is a blockchain-based game that com...</td>\n",
       "    </tr>\n",
       "    <tr>\n",
       "      <th>4</th>\n",
       "      <td>Airdrop</td>\n",
       "      <td>Miscellaneous and Emerging Technologies</td>\n",
       "      <td>An airdrop is a distribution strategy where fr...</td>\n",
       "    </tr>\n",
       "  </tbody>\n",
       "</table>\n",
       "</div>"
      ],
      "text/plain": [
       "         term                                    category  \\\n",
       "0  34% Attack                        Security and Attacks   \n",
       "1  51% Attack                        Security and Attacks   \n",
       "2        Aave  Decentralized Finance (DeFi) and Protocols   \n",
       "3  Aavegotchi  Decentralized Finance (DeFi) and Protocols   \n",
       "4     Airdrop     Miscellaneous and Emerging Technologies   \n",
       "\n",
       "                                         description  \n",
       "0  A 34% attack occurs when an entity controls mo...  \n",
       "1  A 51% attack occurs when an entity controls mo...  \n",
       "2  Aave is a decentralized lending protocol that ...  \n",
       "3  Aavegotchi is a blockchain-based game that com...  \n",
       "4  An airdrop is a distribution strategy where fr...  "
      ]
     },
     "execution_count": 7,
     "metadata": {},
     "output_type": "execute_result"
    }
   ],
   "source": [
    "df.head()"
   ]
  },
  {
   "cell_type": "code",
   "execution_count": 8,
   "metadata": {},
   "outputs": [],
   "source": [
    "documents = df.to_dict(orient='records')\n",
    "for doc in documents:\n",
    "    doc['id'] = generate_document_id(doc)"
   ]
  },
  {
   "cell_type": "code",
   "execution_count": 9,
   "metadata": {},
   "outputs": [
    {
     "data": {
      "text/plain": [
       "{'term': '34% Attack',\n",
       " 'category': 'Security and Attacks',\n",
       " 'description': 'A 34% attack occurs when an entity controls more than 34% of a blockchain’s network power or stake, potentially manipulating consensus mechanisms, especially in Proof-of-Stake networks. This level of control can disrupt the network, validate fraudulent transactions, or halt consensus, compromising the integrity of the blockchain.',\n",
       " 'id': '4c1e419c'}"
      ]
     },
     "execution_count": 9,
     "metadata": {},
     "output_type": "execute_result"
    }
   ],
   "source": [
    "documents[0]"
   ]
  },
  {
   "cell_type": "code",
   "execution_count": 10,
   "metadata": {},
   "outputs": [
    {
     "data": {
      "text/plain": [
       "<minsearch.Index at 0x74a6f2b1acf0>"
      ]
     },
     "execution_count": 10,
     "metadata": {},
     "output_type": "execute_result"
    }
   ],
   "source": [
    "index = minsearch.Index(text_fields=[\"term\", \"category\", \"description\"],\n",
    "                        keyword_fields=[]\n",
    ")\n",
    "\n",
    "index.fit(documents)"
   ]
  },
  {
   "cell_type": "code",
   "execution_count": 11,
   "metadata": {},
   "outputs": [],
   "source": [
    "query = 'I would like to know about DeFi?'"
   ]
  },
  {
   "cell_type": "code",
   "execution_count": 12,
   "metadata": {},
   "outputs": [
    {
     "data": {
      "text/plain": [
       "[{'term': 'DeFi',\n",
       "  'category': 'Decentralized Finance (DeFi) and Protocols',\n",
       "  'description': 'Decentralized Finance (DeFi) refers to financial services built on blockchain technology that operate without traditional intermediaries. DeFi platforms offer various services like lending, borrowing, and trading through smart contracts on decentralized networks, aiming to democratize access to financial products and services.',\n",
       "  'id': '1c88180b'},\n",
       " {'term': 'InstaDApp',\n",
       "  'category': 'Decentralized Finance (DeFi) and Protocols',\n",
       "  'description': 'InstaDApp is a DeFi management platform that aggregates multiple DeFi protocols into a single interface, simplifying complex strategies like borrowing, lending, and leveraging. It provides users with tools to maximize DeFi opportunities without needing to interact with individual protocols. It integrates platforms like Maker, Compound, and Aave.',\n",
       "  'id': '3a4e7d53'},\n",
       " {'term': 'Cream Finance',\n",
       "  'category': 'Decentralized Finance (DeFi) and Protocols',\n",
       "  'description': 'Cream Finance is a DeFi lending and borrowing protocol that allows users to lend, borrow, and stake various crypto assets. It supports a wide range of tokens, including stablecoins and altcoins. Cream also offers liquidity mining opportunities and is integrated with other DeFi platforms to enhance decentralized financial services.',\n",
       "  'id': 'ebb8de18'},\n",
       " {'term': 'Yield Aggregator',\n",
       "  'category': 'Decentralized Finance (DeFi) and Protocols',\n",
       "  'description': \"A yield aggregator is a platform that optimizes yield farming returns by automatically allocating users' funds across various DeFi protocols. It seeks to maximize earnings from interest or rewards by selecting the best opportunities available in the DeFi ecosystem.\",\n",
       "  'id': '9b8c2d00'},\n",
       " {'term': 'Yearn.Finance (YFI)',\n",
       "  'category': 'Decentralized Finance (DeFi) and Protocols',\n",
       "  'description': 'Yearn.Finance is a decentralized finance (DeFi) platform that automates yield farming strategies, helping users maximize returns on their crypto assets. Its native token, YFI, is used for governance, allowing holders to vote on protocol changes. Yearn aggregates liquidity from various DeFi platforms to optimize yield for users.',\n",
       "  'id': '1129e8f7'}]"
      ]
     },
     "execution_count": 12,
     "metadata": {},
     "output_type": "execute_result"
    }
   ],
   "source": [
    "index.search(query=query,num_results=5)"
   ]
  },
  {
   "cell_type": "code",
   "execution_count": 13,
   "metadata": {},
   "outputs": [],
   "source": [
    "def search(q):\n",
    "    #boost = {'term': 3.0, 'category': 0.5}\n",
    "\n",
    "    results = index.search(\n",
    "        query=q,\n",
    "        #boost_dict=boost,\n",
    "        num_results=5\n",
    "    )\n",
    "    return results"
   ]
  },
  {
   "cell_type": "code",
   "execution_count": 14,
   "metadata": {},
   "outputs": [],
   "source": [
    "prompt_template = \"\"\"\n",
    "You're a crypto linguist. Answer the QUESTION based on the CONTEXT from our specially curated database.\n",
    "Use only the facts from the CONTEXT when answering the QUESTION and do not add anything else. \n",
    "If context doesn't provide relevant information, mention that you need to\n",
    "update the knowledge base to answer the user question.\n",
    "\n",
    "QUESTION: {question}\n",
    "CONTEXT: \n",
    "{context}\n",
    "\"\"\".strip()\n",
    "\n",
    "entry_template = \"\"\"\n",
    "id:{id}\n",
    "term:{term}\n",
    "category:{category}\n",
    "description:{description}\n",
    "\"\"\".strip()\n",
    "\n",
    "def build_prompt(query, search_results):\n",
    "    context = \"\"\n",
    "\n",
    "    for doc in search_results:\n",
    "        context = context + entry_template.format(**doc) + \"\\n\\n\"\n",
    "\n",
    "    prompt = prompt_template.format(question=query, context=context).strip()\n",
    "    return prompt\n"
   ]
  },
  {
   "cell_type": "code",
   "execution_count": 15,
   "metadata": {},
   "outputs": [
    {
     "name": "stdout",
     "output_type": "stream",
     "text": [
      "You're a crypto linguist. Answer the QUESTION based on the CONTEXT from our specially curated database.\n",
      "Use only the facts from the CONTEXT when answering the QUESTION and do not add anything else. \n",
      "If context doesn't provide relevant information, mention that you need to\n",
      "update the knowledge base to answer the user question.\n",
      "\n",
      "QUESTION: I would like to know about DeFi?\n",
      "CONTEXT: \n",
      "id:1c88180b\n",
      "term:DeFi\n",
      "category:Decentralized Finance (DeFi) and Protocols\n",
      "description:Decentralized Finance (DeFi) refers to financial services built on blockchain technology that operate without traditional intermediaries. DeFi platforms offer various services like lending, borrowing, and trading through smart contracts on decentralized networks, aiming to democratize access to financial products and services.\n",
      "\n",
      "id:3a4e7d53\n",
      "term:InstaDApp\n",
      "category:Decentralized Finance (DeFi) and Protocols\n",
      "description:InstaDApp is a DeFi management platform that aggregates multiple DeFi protocols into a single interface, simplifying complex strategies like borrowing, lending, and leveraging. It provides users with tools to maximize DeFi opportunities without needing to interact with individual protocols. It integrates platforms like Maker, Compound, and Aave.\n",
      "\n",
      "id:ebb8de18\n",
      "term:Cream Finance\n",
      "category:Decentralized Finance (DeFi) and Protocols\n",
      "description:Cream Finance is a DeFi lending and borrowing protocol that allows users to lend, borrow, and stake various crypto assets. It supports a wide range of tokens, including stablecoins and altcoins. Cream also offers liquidity mining opportunities and is integrated with other DeFi platforms to enhance decentralized financial services.\n",
      "\n",
      "id:9b8c2d00\n",
      "term:Yield Aggregator\n",
      "category:Decentralized Finance (DeFi) and Protocols\n",
      "description:A yield aggregator is a platform that optimizes yield farming returns by automatically allocating users' funds across various DeFi protocols. It seeks to maximize earnings from interest or rewards by selecting the best opportunities available in the DeFi ecosystem.\n",
      "\n",
      "id:1129e8f7\n",
      "term:Yearn.Finance (YFI)\n",
      "category:Decentralized Finance (DeFi) and Protocols\n",
      "description:Yearn.Finance is a decentralized finance (DeFi) platform that automates yield farming strategies, helping users maximize returns on their crypto assets. Its native token, YFI, is used for governance, allowing holders to vote on protocol changes. Yearn aggregates liquidity from various DeFi platforms to optimize yield for users.\n"
     ]
    }
   ],
   "source": [
    "prompt = build_prompt(query,search(query))\n",
    "print(prompt)"
   ]
  },
  {
   "cell_type": "code",
   "execution_count": 25,
   "metadata": {},
   "outputs": [],
   "source": [
    "def llm(prompt):\n",
    "    client = OpenAI()\n",
    "    response = client.chat.completions.create(model='gpt-4o-mini',\n",
    "               messages = [{\"role\":\"user\",\"content\":prompt}])\n",
    "    return response.choices[0].message.content"
   ]
  },
  {
   "cell_type": "code",
   "execution_count": 26,
   "metadata": {},
   "outputs": [],
   "source": [
    "def rag_response(q):\n",
    "    context = search(q)\n",
    "    prompt = build_prompt(q, context)\n",
    "    answer = llm(prompt)\n",
    "    return answer"
   ]
  },
  {
   "cell_type": "code",
   "execution_count": 17,
   "metadata": {},
   "outputs": [
    {
     "data": {
      "text/plain": [
       "\"Proof of Work (PoW) is a consensus algorithm where miners solve complex cryptographic puzzles to validate transactions and create new blocks, requiring significant computational power and energy. This approach ensures network security by making attacks costly and resource-intensive.\\n\\nIn contrast, Proof of Stake (PoS) is a consensus mechanism where validators are chosen to create new blocks based on the amount of cryptocurrency they hold and are willing to stake as collateral. PoS is more energy-efficient compared to PoW and incentivizes validators to act in the network's best interest.\\n\\nIn summary, the key differences are: PoW relies on computational power and energy consumption, while PoS is based on the amount of cryptocurrency held and staked, making it more energy-efficient.\""
      ]
     },
     "execution_count": 17,
     "metadata": {},
     "output_type": "execute_result"
    }
   ],
   "source": [
    "query = 'explain the difference between proof of work and proof of stake?'\n",
    "answer = rag_response(query)\n",
    "answer"
   ]
  },
  {
   "cell_type": "code",
   "execution_count": 18,
   "metadata": {},
   "outputs": [
    {
     "name": "stdout",
     "output_type": "stream",
     "text": [
      "If a 51% attack takes place on a cryptocurrency network, the potential consequences for users include the ability for the attacker to alter the blockchain's history, double-spend coins, and disrupt network operations, ultimately compromising the network's integrity.\n"
     ]
    }
   ],
   "source": [
    "query = 'What are the potential consequences for users if a 51% attack takes place on a cryptocurrency network?'\n",
    "answer = rag_response(query)\n",
    "print(answer)"
   ]
  },
  {
   "cell_type": "markdown",
   "metadata": {},
   "source": [
    "with open('documents-with-ids.json', 'wt') as f_out:\n",
    "    json.dump(documents, f_out, indent=2)"
   ]
  },
  {
   "cell_type": "code",
   "execution_count": 19,
   "metadata": {},
   "outputs": [],
   "source": [
    "from elasticsearch import Elasticsearch"
   ]
  },
  {
   "cell_type": "code",
   "execution_count": 20,
   "metadata": {},
   "outputs": [],
   "source": [
    "es_client = Elasticsearch('http://localhost:9200')"
   ]
  },
  {
   "cell_type": "code",
   "execution_count": 21,
   "metadata": {},
   "outputs": [
    {
     "data": {
      "text/plain": [
       "ObjectApiResponse({'acknowledged': True, 'shards_acknowledged': True, 'index': 'crypto-linguist'})"
      ]
     },
     "execution_count": 21,
     "metadata": {},
     "output_type": "execute_result"
    }
   ],
   "source": [
    "index_settings = {\n",
    "    \"settings\": {\n",
    "        \"number_of_shards\": 1,\n",
    "        \"number_of_replicas\": 0\n",
    "    },\n",
    "    \"mappings\": {\n",
    "        \"properties\": {\n",
    "            \"term\": {\"type\": \"text\"},\n",
    "            \"category\": {\"type\": \"text\"},\n",
    "            \"description\": {\"type\": \"text\"}\n",
    "        }\n",
    "    }\n",
    "}\n",
    "\n",
    "index_name = \"crypto-linguist\"\n",
    "\n",
    "es_client.indices.create(index=index_name, body=index_settings)"
   ]
  },
  {
   "cell_type": "code",
   "execution_count": 22,
   "metadata": {},
   "outputs": [
    {
     "data": {
      "text/plain": [
       "{'term': '34% Attack',\n",
       " 'category': 'Security and Attacks',\n",
       " 'description': 'A 34% attack occurs when an entity controls more than 34% of a blockchain’s network power or stake, potentially manipulating consensus mechanisms, especially in Proof-of-Stake networks. This level of control can disrupt the network, validate fraudulent transactions, or halt consensus, compromising the integrity of the blockchain.',\n",
       " 'id': '4c1e419c'}"
      ]
     },
     "execution_count": 22,
     "metadata": {},
     "output_type": "execute_result"
    }
   ],
   "source": [
    "documents[0]"
   ]
  },
  {
   "cell_type": "code",
   "execution_count": 23,
   "metadata": {},
   "outputs": [
    {
     "data": {
      "application/vnd.jupyter.widget-view+json": {
       "model_id": "ec3616fffc22433496b19f1b7e122fdf",
       "version_major": 2,
       "version_minor": 0
      },
      "text/plain": [
       "  0%|          | 0/302 [00:00<?, ?it/s]"
      ]
     },
     "metadata": {},
     "output_type": "display_data"
    }
   ],
   "source": [
    "from tqdm.auto import tqdm\n",
    "for doc in tqdm(documents):\n",
    "    es_client.index(index=index_name, document=doc)"
   ]
  },
  {
   "cell_type": "code",
   "execution_count": 24,
   "metadata": {},
   "outputs": [],
   "source": [
    "def elastic_search(query):\n",
    "    search_query = {\n",
    "        \"size\": 5,\n",
    "        \"query\": {\n",
    "            \"bool\": {\n",
    "                \"must\": {\n",
    "                    \"multi_match\": {\n",
    "                        \"query\": query,\n",
    "                        \"fields\": [\"term^3\", \"description\", \"category\"],\n",
    "                        \"type\": \"best_fields\"\n",
    "                    }\n",
    "                }\n",
    "            }\n",
    "        }\n",
    "    }\n",
    "\n",
    "    response = es_client.search(index=index_name, body=search_query)\n",
    "    \n",
    "    result_docs = []\n",
    "    \n",
    "    for hit in response['hits']['hits']:\n",
    "        result_docs.append(hit['_source'])\n",
    "    \n",
    "    return result_docs"
   ]
  },
  {
   "cell_type": "code",
   "execution_count": 30,
   "metadata": {},
   "outputs": [],
   "source": [
    "def rag_es(query):\n",
    "    search_results = elastic_search(query)\n",
    "    prompt = build_prompt(query, search_results)\n",
    "    answer = llm(prompt)\n",
    "    return answer"
   ]
  },
  {
   "cell_type": "code",
   "execution_count": 31,
   "metadata": {},
   "outputs": [
    {
     "data": {
      "text/plain": [
       "\"If a 51% attack occurs on a cryptocurrency network, the potential consequences for users include the ability for the attacking entity to alter the blockchain's history, double-spend coins, or disrupt network operations. This could ultimately compromise the network's integrity and affect users' trust and security in the network.\""
      ]
     },
     "execution_count": 31,
     "metadata": {},
     "output_type": "execute_result"
    }
   ],
   "source": [
    "rag_es(query)"
   ]
  },
  {
   "cell_type": "code",
   "execution_count": null,
   "metadata": {},
   "outputs": [],
   "source": []
  }
 ],
 "metadata": {
  "kernelspec": {
   "display_name": "Python 3 (ipykernel)",
   "language": "python",
   "name": "python3"
  },
  "language_info": {
   "codemirror_mode": {
    "name": "ipython",
    "version": 3
   },
   "file_extension": ".py",
   "mimetype": "text/x-python",
   "name": "python",
   "nbconvert_exporter": "python",
   "pygments_lexer": "ipython3",
   "version": "3.12.1"
  }
 },
 "nbformat": 4,
 "nbformat_minor": 4
}
